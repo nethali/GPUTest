{
 "cells": [
  {
   "cell_type": "markdown",
   "id": "28294a58-69c3-452f-9f46-3ebf0b1c195e",
   "metadata": {},
   "source": [
    "GPU Availability Test Notebook\n",
    "\n",
    "By Nethali Zoysa (2024/08/02)"
   ]
  },
  {
   "cell_type": "markdown",
   "id": "0fdeec82-94ee-4057-927e-b9c649c17191",
   "metadata": {},
   "source": [
    "First, let's install the necessary libraries"
   ]
  },
  {
   "cell_type": "code",
   "execution_count": null,
   "id": "36621189-5955-42a3-a1d0-aa3f075a6f27",
   "metadata": {
    "tags": []
   },
   "outputs": [],
   "source": [
    "!pip install torch numpy matplotlib py3nvml"
   ]
  },
  {
   "cell_type": "markdown",
   "id": "3d0c7d06-94f6-415b-ac64-76ad205ec4b2",
   "metadata": {},
   "source": [
    "Import required libraries and check if CUDA (GPU support) is available"
   ]
  },
  {
   "cell_type": "code",
   "execution_count": null,
   "id": "b981095a-e4b7-4f2e-8344-05a11150a5c4",
   "metadata": {
    "tags": []
   },
   "outputs": [],
   "source": [
    "import torch\n",
    "\n",
    "print(\"CUDA available:\", torch.cuda.is_available())"
   ]
  },
  {
   "cell_type": "markdown",
   "id": "99f7a00a-db46-4107-bc4b-5d5bf3e92443",
   "metadata": {},
   "source": [
    "If CUDA is available, print some information about the GPU"
   ]
  },
  {
   "cell_type": "code",
   "execution_count": null,
   "id": "8fe6b013-dee7-49ed-a8a0-1e6c495c5abf",
   "metadata": {
    "tags": []
   },
   "outputs": [],
   "source": [
    "import time\n",
    "\n",
    "if torch.cuda.is_available():\n",
    "    print(\"GPU Name:\", torch.cuda.get_device_name(0))\n",
    "    print(\"Number of GPUs:\", torch.cuda.device_count())\n",
    "    \n",
    "    # Create a large tensor on GPU to test performance\n",
    "    device = torch.device(\"cuda\")\n",
    "    x = torch.randn(10000, 10000, device=device)\n",
    "    y = torch.randn(10000, 10000, device=device)\n",
    "    \n",
    "    # Perform matrix multiplication and measure time\n",
    "    start_time = torch.cuda.Event(enable_timing=True)\n",
    "    end_time = torch.cuda.Event(enable_timing=True)\n",
    "    \n",
    "    start_time.record()\n",
    "    z = torch.matmul(x, y)\n",
    "    end_time.record()\n",
    "    \n",
    "    # Wait for GPU computation to finish\n",
    "    torch.cuda.synchronize()\n",
    "    \n",
    "    print(f\"GPU Matrix multiplication time: {start_time.elapsed_time(end_time):.2f} ms\")\n",
    "else:\n",
    "    print(\"CUDA is not available. Using CPU instead.\")\n",
    "    \n",
    "    # Create a large tensor on CPU to test performance\n",
    "    x = torch.randn(10000, 10000)\n",
    "    y = torch.randn(10000, 10000)\n",
    "    \n",
    "    # Perform matrix multiplication and measure time\n",
    "    start_time = time.time()\n",
    "    z = torch.matmul(x, y)\n",
    "    end_time = time.time()\n",
    "    \n",
    "    print(f\"CPU Matrix multiplication time: {(end_time - start_time) * 1000:.2f} ms\")"
   ]
  },
  {
   "cell_type": "markdown",
   "id": "fd1fc66c-ac42-4db7-b82e-c47b80537347",
   "metadata": {
    "tags": []
   },
   "source": [
    "Get GPU details "
   ]
  },
  {
   "cell_type": "code",
   "execution_count": null,
   "id": "09e3360c-66ea-439e-ab85-10fa3afb2ed0",
   "metadata": {
    "tags": []
   },
   "outputs": [],
   "source": [
    "import py3nvml\n",
    "\n",
    "if torch.cuda.is_available():\n",
    "    py3nvml.py3nvml.nvmlInit()\n",
    "\n",
    "    # Get the number of GPUs\n",
    "    num_gpus = py3nvml.py3nvml.nvmlDeviceGetCount()\n",
    "\n",
    "    # Loop through all GPUs\n",
    "    for i in range(num_gpus):\n",
    "        handle = py3nvml.py3nvml.nvmlDeviceGetHandleByIndex(i)\n",
    "        print(f\"GPU {i}: {py3nvml.py3nvml.nvmlDeviceGetName(handle)}\")\n",
    "        print(f\"Memory: {py3nvml.py3nvml.nvmlDeviceGetMemoryInfo(handle).used / 1024**2:.2f} MB\")\n",
    "        print(f\"Temperature: {py3nvml.py3nvml.nvmlDeviceGetTemperature(handle, py3nvml.py3nvml.NVML_TEMPERATURE_GPU)} C\")\n",
    "        print(f\"Power: {py3nvml.py3nvml.nvmlDeviceGetPowerUsage(handle) / 1000:.2f} W\")\n",
    "        print()\n",
    "else:\n",
    "    print(\"Skipped since GUP is not available\")"
   ]
  },
  {
   "cell_type": "markdown",
   "id": "ee0ce79b-41d6-4f79-9b0d-2e9e66a839ce",
   "metadata": {},
   "source": [
    "Get more GPU details"
   ]
  },
  {
   "cell_type": "code",
   "execution_count": null,
   "id": "fbebba27-a81f-4268-96d4-c4c9b5fd56bc",
   "metadata": {
    "tags": []
   },
   "outputs": [],
   "source": [
    "import subprocess\n",
    "\n",
    "if torch.cuda.is_available():\n",
    "    # Use nvidia-smi command to get details\n",
    "    details = subprocess.check_output(['nvidia-smi'])\n",
    "    print(details.decode('utf-8'))\n",
    "else:\n",
    "    print(\"Skipped since GUP is not available\")"
   ]
  },
  {
   "cell_type": "markdown",
   "id": "5c70acae-fbc5-451a-929d-08e34b1a09a1",
   "metadata": {},
   "source": [
    "Test GPU performances"
   ]
  },
  {
   "cell_type": "code",
   "execution_count": null,
   "id": "7c4f5307-dae1-4f7a-8552-1b82d977382f",
   "metadata": {
    "tags": []
   },
   "outputs": [],
   "source": [
    "import numpy as np\n",
    "import matplotlib.pyplot as plt\n",
    "\n",
    "if torch.cuda.is_available():\n",
    "    # Test NumPy performance (CPU-based)\n",
    "    a = np.random.randn(5000, 5000)  # Reduced size for faster execution\n",
    "    b = np.random.randn(5000, 5000)  # Reduced size for faster execution\n",
    "\n",
    "    start_time = time.time()\n",
    "    c = np.dot(a, b)\n",
    "    end_time = time.time()\n",
    "\n",
    "    print(f\"NumPy matrix multiplication time: {(end_time - start_time) * 1000:.2f} ms\")\n",
    "\n",
    "    # Create a simple plot to test matplotlib\n",
    "    plt.figure(figsize=(10, 6))\n",
    "    plt.plot(np.random.randn(1000).cumsum())\n",
    "    plt.title(\"Random Walk\")\n",
    "    plt.xlabel(\"Step\")\n",
    "    plt.ylabel(\"Value\")\n",
    "    plt.show()\n",
    "else:\n",
    "    print(\"Skipped since GUP is not available\")\n",
    "\n",
    "print(\"Notebook execution completed successfully!\")"
   ]
  },
  {
   "cell_type": "code",
   "execution_count": null,
   "id": "b3d87700-6cb9-4320-baae-a746d4e81429",
   "metadata": {},
   "outputs": [],
   "source": []
  }
 ],
 "metadata": {
  "kernelspec": {
   "display_name": "Python 3.9",
   "language": "python",
   "name": "python3"
  },
  "language_info": {
   "codemirror_mode": {
    "name": "ipython",
    "version": 3
   },
   "file_extension": ".py",
   "mimetype": "text/x-python",
   "name": "python",
   "nbconvert_exporter": "python",
   "pygments_lexer": "ipython3",
   "version": "3.9.18"
  }
 },
 "nbformat": 4,
 "nbformat_minor": 5
}
